{
 "cells": [
  {
   "cell_type": "code",
   "execution_count": 89,
   "metadata": {},
   "outputs": [
    {
     "data": {
      "application/javascript": [
       "IPython.notebook.set_autosave_interval(20000)"
      ]
     },
     "metadata": {},
     "output_type": "display_data"
    },
    {
     "name": "stdout",
     "output_type": "stream",
     "text": [
      "Autosaving every 20 seconds\n"
     ]
    }
   ],
   "source": [
    "import pandas as pd\n",
    "import os\n",
    "import glob\n",
    "import openpyxl\n",
    "import xlwings as xw\n",
    "import re\n",
    "import datetime\n",
    "from datetime import date\n",
    "%autosave 20"
   ]
  },
  {
   "cell_type": "code",
   "execution_count": 91,
   "metadata": {},
   "outputs": [
    {
     "name": "stdout",
     "output_type": "stream",
     "text": [
      "2016-01-01Output\n",
      "2016-01-01\n",
      "PST2020-01-01\n",
      "2020-01-01\n"
     ]
    }
   ],
   "source": [
    "\n",
    "# put in path to folder with files you want to append\n",
    "# *.xlsx or *.csv will get all files of that type\n",
    "path = \"C:/Users/manii/Downloads/*.xlsx\"  # CHange the path as per your location\n",
    "\n",
    "# initialize a empty df\n",
    "appended_data = pd.DataFrame()\n",
    "excelname=[]\n",
    "excelyear=[]\n",
    "#loop through each file in the path\n",
    "for file in glob.glob(path):\n",
    "    wb = openpyxl.load_workbook(file)\n",
    "    #print(file)\n",
    "    x=file.split('\\\\')   # change\n",
    "    x=x[1].split(\".\")    # change\n",
    "    print(x[0])\n",
    "    match = re.search(r'\\d{4}-\\d{2}-\\d{2}', x[0])\n",
    "    date= datetime.datetime.strptime(match.group(), '%Y-%m-%d').date()\n",
    "    print(date)\n",
    "    excelname.append(x[0])  # change\n",
    "    excelyear.append(date)\n",
    "    #print(x[1])\n",
    "   \n",
    "  \n",
    "    # create a df of that file path\n",
    "    \n",
    "    df = pd.read_excel(file, sheet_name = 0)\n",
    "    for i in excelname:\n",
    "        for j in excelyear:\n",
    "            df[\"col3\"]=df[\"col1\"]+i\n",
    "            df[\"col4\"]=j\n",
    "    \n",
    "\n",
    "    # Remove duplicates before appending\n",
    "    \n",
    "    appended_data = appended_data.drop_duplicates(subset=[\"col1\",\"col2\"])\n",
    "   \n",
    "    # Append the data after removing the duplicates\n",
    "    \n",
    "    appended_data = appended_data.append(df)\n",
    "\n",
    "#appended_data\n",
    "\n",
    "# export the appeneded data to a folder of your choice\n",
    "\n",
    "exportPath = 'C:/Users/manii/Documents//appended_dataExport.xlsx'  # change\n",
    "appended_data.to_excel(os.path.join(exportPath),index=False)"
   ]
  },
  {
   "cell_type": "code",
   "execution_count": null,
   "metadata": {},
   "outputs": [],
   "source": []
  },
  {
   "cell_type": "code",
   "execution_count": null,
   "metadata": {},
   "outputs": [],
   "source": []
  }
 ],
 "metadata": {
  "kernelspec": {
   "display_name": "Python 3",
   "language": "python",
   "name": "python3"
  },
  "language_info": {
   "codemirror_mode": {
    "name": "ipython",
    "version": 3
   },
   "file_extension": ".py",
   "mimetype": "text/x-python",
   "name": "python",
   "nbconvert_exporter": "python",
   "pygments_lexer": "ipython3",
   "version": "3.7.5"
  }
 },
 "nbformat": 4,
 "nbformat_minor": 2
}
